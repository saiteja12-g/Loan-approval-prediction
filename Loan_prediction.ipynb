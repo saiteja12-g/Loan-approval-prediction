{
  "nbformat": 4,
  "nbformat_minor": 0,
  "metadata": {
    "colab": {
      "name": "Loan_prediction.ipynb",
      "provenance": [],
      "collapsed_sections": [],
      "toc_visible": true
    },
    "kernelspec": {
      "name": "python3",
      "display_name": "Python 3"
    },
    "language_info": {
      "name": "python"
    }
  },
  "cells": [
    {
      "cell_type": "markdown",
      "metadata": {
        "id": "q6QAls4X_nic"
      },
      "source": [
        "# **Loan Approval Prediction**\n",
        "In this problem, we will try to decide where a particular ID get the loan. we take the decision by different machine learning algoritms\n"
      ]
    },
    {
      "cell_type": "code",
      "metadata": {
        "id": "wHy4AX-BDajW"
      },
      "source": [
        "import pandas as pd\n",
        "import matplotlib.pyplot as plot\n",
        "import seaborn as sb"
      ],
      "execution_count": null,
      "outputs": []
    },
    {
      "cell_type": "code",
      "metadata": {
        "colab": {
          "base_uri": "https://localhost:8080/"
        },
        "id": "Uag091te9zgs",
        "outputId": "a5e2126f-4d20-404e-b8bb-b46fafd9a4b0"
      },
      "source": [
        "train_df = pd.read_csv(\"18210.csv\")    #importing the dataset\n",
        "print(train_df.info())                 #Brief description about the dataset"
      ],
      "execution_count": null,
      "outputs": [
        {
          "output_type": "stream",
          "text": [
            "<class 'pandas.core.frame.DataFrame'>\n",
            "RangeIndex: 614 entries, 0 to 613\n",
            "Data columns (total 13 columns):\n",
            " #   Column             Non-Null Count  Dtype  \n",
            "---  ------             --------------  -----  \n",
            " 0   Loan_ID            614 non-null    object \n",
            " 1   Gender             601 non-null    object \n",
            " 2   Married            611 non-null    object \n",
            " 3   Dependents         599 non-null    object \n",
            " 4   Education          614 non-null    object \n",
            " 5   Self_Employed      582 non-null    object \n",
            " 6   ApplicantIncome    614 non-null    int64  \n",
            " 7   CoapplicantIncome  614 non-null    float64\n",
            " 8   LoanAmount         592 non-null    float64\n",
            " 9   Loan_Amount_Term   600 non-null    float64\n",
            " 10  Credit_History     564 non-null    float64\n",
            " 11  Property_Area      614 non-null    object \n",
            " 12  Loan_Status        614 non-null    object \n",
            "dtypes: float64(4), int64(1), object(8)\n",
            "memory usage: 62.5+ KB\n",
            "None\n"
          ],
          "name": "stdout"
        }
      ]
    },
    {
      "cell_type": "markdown",
      "metadata": {
        "id": "kkHHso4GBPoe"
      },
      "source": [
        "We can clearly see there are 13 columns and there are missing data points in the dataset.\n"
      ]
    },
    {
      "cell_type": "code",
      "metadata": {
        "id": "GQX6ttTv_K2O"
      },
      "source": [
        "train_df = train_df.drop(columns= [\"Loan_ID\"])"
      ],
      "execution_count": null,
      "outputs": []
    },
    {
      "cell_type": "markdown",
      "metadata": {
        "id": "zqr2i_dHJSvE"
      },
      "source": [
        "\n",
        "\n",
        "# Analyzing the dataset by graphs\n",
        "\n",
        "By looking at the graphs, We will try to get some conclusions. This is a very important step. All having a data like this, We can \n",
        "\n",
        "1) generalise or remove the columns which doesnt have any \n",
        "significane on making the decision. \n",
        "\n",
        "2) remove the outliners. On large datasets, the computation can  be decreased."
      ]
    },
    {
      "cell_type": "code",
      "metadata": {
        "colab": {
          "base_uri": "https://localhost:8080/"
        },
        "id": "PRhUUQEoDXoI",
        "outputId": "2e658ed3-7639-4bb8-80aa-432e30a0fbfe"
      },
      "source": [
        "sb.countplot(x=train_df['Gender'], data=train_df, hue='Loan_Status')"
      ],
      "execution_count": null,
      "outputs": [
        {
          "output_type": "execute_result",
          "data": {
            "text/plain": [
              "<matplotlib.axes._subplots.AxesSubplot at 0x7f5e75543c90>"
            ]
          },
          "metadata": {
            "tags": []
          },
          "execution_count": 4
        },
        {
          "output_type": "display_data",
          "data": {
            "image/png": "[encoded data removed]",
            "text/plain": [
              "<Figure size 432x288 with 1 Axes>"
            ]
          },
          "metadata": {
            "tags": [],
            "needs_background": "light"
          }
        }
      ]
    },
    {
      "cell_type": "markdown",
      "metadata": {
        "id": "e1fdfkVDLUtX"
      },
      "source": [
        "**Interpreted data from above graph**\n",
        "\n",
        "Most of the people who apply are men (3 times more) and there are higher chances the loan gets sanctioned if the applicant sex is 'Male'"
      ]
    },
    {
      "cell_type": "code",
      "metadata": {
        "colab": {
          "base_uri": "https://localhost:8080/"
        },
        "id": "ItFdpwvXGAb9",
        "outputId": "81da0316-5c85-4dcb-8151-a5f7d4cc084e"
      },
      "source": [
        "sb.countplot(x=train_df['Married'], data=train_df, hue='Loan_Status')"
      ],
      "execution_count": null,
      "outputs": [
        {
          "output_type": "execute_result",
          "data": {
            "text/plain": [
              "<matplotlib.axes._subplots.AxesSubplot at 0x7f5e747a3810>"
            ]
          },
          "metadata": {
            "tags": []
          },
          "execution_count": 5
        },
        {
          "output_type": "display_data",
          "data": {
            "image/png": "[encoded data removed]",
            "text/plain": [
              "<Figure size 432x288 with 1 Axes>"
            ]
          },
          "metadata": {
            "tags": [],
            "needs_background": "light"
          }
        }
      ]
    },
    {
      "cell_type": "markdown",
      "metadata": {
        "id": "oG0fOdjONrwk"
      },
      "source": [
        "**Interpreted data from above graph**\n",
        "\n",
        "2/3 rd of the people who applied for loan are married and married applicants are more likely to get loan sanctioned"
      ]
    },
    {
      "cell_type": "code",
      "metadata": {
        "colab": {
          "base_uri": "https://localhost:8080/"
        },
        "id": "AtnT3t04E4Jt",
        "outputId": "950cb1f9-a515-4c96-faa1-7666aea64c0c"
      },
      "source": [
        "sb.countplot(x=train_df['Dependents'], data=train_df, hue='Loan_Status')"
      ],
      "execution_count": null,
      "outputs": [
        {
          "output_type": "execute_result",
          "data": {
            "text/plain": [
              "<matplotlib.axes._subplots.AxesSubplot at 0x7f5e7478e890>"
            ]
          },
          "metadata": {
            "tags": []
          },
          "execution_count": 6
        },
        {
          "output_type": "display_data",
          "data": {
            "image/png": "[encoded data removed]",
            "text/plain": [
              "<Figure size 432x288 with 1 Axes>"
            ]
          },
          "metadata": {
            "tags": [],
            "needs_background": "light"
          }
        }
      ]
    },
    {
      "cell_type": "markdown",
      "metadata": {
        "id": "3JF2avSgUQjN"
      },
      "source": [
        "**Interpreted data from above graph**\n",
        "\n",
        "If the dependants are 0, there is highly likely that loan is approved"
      ]
    },
    {
      "cell_type": "code",
      "metadata": {
        "colab": {
          "base_uri": "https://localhost:8080/"
        },
        "id": "Iur8ekVaGKvx",
        "outputId": "fe6f1db9-911b-4e71-af76-155512e27f7e"
      },
      "source": [
        "sb.countplot(x=train_df['Education'], data=train_df, hue='Loan_Status')"
      ],
      "execution_count": null,
      "outputs": [
        {
          "output_type": "execute_result",
          "data": {
            "text/plain": [
              "<matplotlib.axes._subplots.AxesSubplot at 0x7f5e74711250>"
            ]
          },
          "metadata": {
            "tags": []
          },
          "execution_count": 7
        },
        {
          "output_type": "display_data",
          "data": {
            "image/png": "[encoded data removed]",
            "text/plain": [
              "<Figure size 432x288 with 1 Axes>"
            ]
          },
          "metadata": {
            "tags": [],
            "needs_background": "light"
          }
        }
      ]
    },
    {
      "cell_type": "markdown",
      "metadata": {
        "id": "BqI81hPgUicT"
      },
      "source": [
        "**Interpreted data from above graph**\n",
        "\n",
        "Graduated population are more likely to get the loan"
      ]
    },
    {
      "cell_type": "code",
      "metadata": {
        "colab": {
          "base_uri": "https://localhost:8080/"
        },
        "id": "RyS43L9KGRVF",
        "outputId": "d2f05036-6d90-4bb5-f990-7956f91baa72"
      },
      "source": [
        "sb.countplot(x=train_df['Self_Employed'], data=train_df, hue='Loan_Status')"
      ],
      "execution_count": null,
      "outputs": [
        {
          "output_type": "execute_result",
          "data": {
            "text/plain": [
              "<matplotlib.axes._subplots.AxesSubplot at 0x7f5e746d92d0>"
            ]
          },
          "metadata": {
            "tags": []
          },
          "execution_count": 8
        },
        {
          "output_type": "display_data",
          "data": {
            "image/png": "[encoded data removed]",
            "text/plain": [
              "<Figure size 432x288 with 1 Axes>"
            ]
          },
          "metadata": {
            "tags": [],
            "needs_background": "light"
          }
        }
      ]
    },
    {
      "cell_type": "markdown",
      "metadata": {
        "id": "jVKbawgyUxg8"
      },
      "source": [
        "**Interpreted data from above graph**\n",
        "\n",
        "5/6th of population is not self employed"
      ]
    },
    {
      "cell_type": "code",
      "metadata": {
        "colab": {
          "base_uri": "https://localhost:8080/"
        },
        "id": "Ta9gnBQFG0K_",
        "outputId": "ac5a5550-b711-4303-9124-e11c38eca2bc"
      },
      "source": [
        "sb.countplot(x=train_df['Credit_History'], data=train_df, hue='Loan_Status')"
      ],
      "execution_count": null,
      "outputs": [
        {
          "output_type": "execute_result",
          "data": {
            "text/plain": [
              "<matplotlib.axes._subplots.AxesSubplot at 0x7f5e74c5e690>"
            ]
          },
          "metadata": {
            "tags": []
          },
          "execution_count": 9
        },
        {
          "output_type": "display_data",
          "data": {
            "image/png": "[encoded data removed]",
            "text/plain": [
              "<Figure size 432x288 with 1 Axes>"
            ]
          },
          "metadata": {
            "tags": [],
            "needs_background": "light"
          }
        }
      ]
    },
    {
      "cell_type": "markdown",
      "metadata": {
        "id": "xBPy3C6FVmHi"
      },
      "source": [
        "**Interpreted data from above graph**\n",
        "\n",
        "Applicant with credit history are far more likely to be accepted."
      ]
    },
    {
      "cell_type": "code",
      "metadata": {
        "colab": {
          "base_uri": "https://localhost:8080/"
        },
        "id": "kzd1Xvt2LhWM",
        "outputId": "9afbd271-5378-4128-ace0-63aa9572dfa0"
      },
      "source": [
        "sb.countplot(x=train_df['Loan_Status'], data=train_df, hue='Loan_Status')"
      ],
      "execution_count": null,
      "outputs": [
        {
          "output_type": "execute_result",
          "data": {
            "text/plain": [
              "<matplotlib.axes._subplots.AxesSubplot at 0x7f5e745e38d0>"
            ]
          },
          "metadata": {
            "tags": []
          },
          "execution_count": 10
        },
        {
          "output_type": "display_data",
          "data": {
            "image/png": "[encoded data removed]",
            "text/plain": [
              "<Figure size 432x288 with 1 Axes>"
            ]
          },
          "metadata": {
            "tags": [],
            "needs_background": "light"
          }
        }
      ]
    },
    {
      "cell_type": "markdown",
      "metadata": {
        "id": "qhntbKbJLqHe"
      },
      "source": [
        "**Interpreted data from above graph**\n",
        "\n",
        "We can conclude, 2/3 of people who applied got there loan sanctioned.\n"
      ]
    },
    {
      "cell_type": "markdown",
      "metadata": {
        "id": "F7NhZ4hXeGeH"
      },
      "source": [
        "# **Preprocessing the data**\n",
        "The data needs to be pre processed to fit to the model. 2 reasons why this is mandatory is \n",
        "\n",
        "\n",
        "*   Missing values (Imputing)\n",
        "*   few columns have features in test format. these needs to be converted in number format (Encoding).\n",
        "\n"
      ]
    },
    {
      "cell_type": "code",
      "metadata": {
        "id": "khaBi85iW1FR",
        "colab": {
          "base_uri": "https://localhost:8080/"
        },
        "outputId": "32cc8146-1ad7-4472-e2f1-954704230130"
      },
      "source": [
        "train_df_encoded = pd.get_dummies(train_df,drop_first=True) #Convert categorical variable into dummy/indicator variables.\n",
        "print(train_df_encoded.head())"
      ],
      "execution_count": null,
      "outputs": [
        {
          "output_type": "stream",
          "text": [
            "   ApplicantIncome  CoapplicantIncome  ...  Property_Area_Urban  Loan_Status_Y\n",
            "0             5849                0.0  ...                    1              1\n",
            "1             4583             1508.0  ...                    0              0\n",
            "2             3000                0.0  ...                    1              1\n",
            "3             2583             2358.0  ...                    1              1\n",
            "4             6000                0.0  ...                    1              1\n",
            "\n",
            "[5 rows x 15 columns]\n"
          ],
          "name": "stdout"
        }
      ]
    },
    {
      "cell_type": "code",
      "metadata": {
        "id": "H8keU7nYgJ2d"
      },
      "source": [
        "X = train_df_encoded.drop(columns='Loan_Status_Y')\n",
        "Y = train_df_encoded['Loan_Status_Y']"
      ],
      "execution_count": null,
      "outputs": []
    },
    {
      "cell_type": "code",
      "metadata": {
        "colab": {
          "base_uri": "https://localhost:8080/"
        },
        "id": "KMn_0n6_12Qr",
        "outputId": "238f6b97-a1a5-445e-9264-a9aeca862041"
      },
      "source": [
        "g = sb.lmplot(x='ApplicantIncome',y='LoanAmount',data= train_df_encoded , col='Self_Employed_Yes', hue='Gender_Male',\n",
        "          palette= [\"Red\" , \"Blue\",\"Yellow\"] ,aspect=1.2,size=6)\n",
        "g.set(ylim=(0, 800))"
      ],
      "execution_count": null,
      "outputs": [
        {
          "output_type": "stream",
          "text": [
            "/usr/local/lib/python3.7/dist-packages/seaborn/regression.py:580: UserWarning: The `size` parameter has been renamed to `height`; please update your code.\n",
            "  warnings.warn(msg, UserWarning)\n"
          ],
          "name": "stderr"
        },
        {
          "output_type": "execute_result",
          "data": {
            "text/plain": [
              "<seaborn.axisgrid.FacetGrid at 0x7f5e74541550>"
            ]
          },
          "metadata": {
            "tags": []
          },
          "execution_count": 13
        },
        {
          "output_type": "display_data",
          "data": {
            "image/png": "[encoded data removed]",
            "text/plain": [
              "<Figure size 1110.42x432 with 2 Axes>"
            ]
          },
          "metadata": {
            "tags": [],
            "needs_background": "light"
          }
        }
      ]
    },
    {
      "cell_type": "markdown",
      "metadata": {
        "id": "7OteBnWr-NmP"
      },
      "source": [
        "Above graph tells:\n",
        "\n",
        "* The male applicants take more amount of loan than female.\n",
        "* The males are higher in number of \"NOT self employed\" category.\n",
        "* Majority of applicants are NOT self employed.\n",
        "* The majority of income taken is about 0-200 with income in the range 0-20000.\n"
      ]
    },
    {
      "cell_type": "markdown",
      "metadata": {
        "id": "1zbibPb3gShR"
      },
      "source": [
        "# Train and Test split"
      ]
    },
    {
      "cell_type": "code",
      "metadata": {
        "id": "XgmzyazpgQn3"
      },
      "source": [
        "from sklearn.model_selection import train_test_split\n",
        "X_train, X_test, Y_train, Y_test = train_test_split(X,Y, test_size=0.20,stratify =Y) "
      ],
      "execution_count": null,
      "outputs": []
    },
    {
      "cell_type": "code",
      "metadata": {
        "id": "WDtLYAEGhsxO"
      },
      "source": [
        "from sklearn.impute import SimpleImputer\n",
        "temp = SimpleImputer(strategy='mean')\n",
        "X_train = temp.fit_transform(X_train)\n",
        "X_test = temp.fit_transform(X_test)"
      ],
      "execution_count": null,
      "outputs": []
    },
    {
      "cell_type": "markdown",
      "metadata": {
        "id": "hGHMAAZj_HVf"
      },
      "source": [
        "# LINEAR REGRESSION FOR CLASSIFICATION"
      ]
    },
    {
      "cell_type": "code",
      "metadata": {
        "id": "YkJiKdlP_W56"
      },
      "source": [
        "from sklearn.linear_model import LinearRegression\n",
        "lrc = LinearRegression()\n",
        "lrc.fit(X_train, Y_train)\n",
        "temp= lrc.predict(X_test)\n",
        "Y_pred_lrc = []"
      ],
      "execution_count": null,
      "outputs": []
    },
    {
      "cell_type": "code",
      "metadata": {
        "id": "-UoPumi-N03r"
      },
      "source": [
        "for i in temp:\n",
        "  if i>0.5:\n",
        "    Y_pred_lrc.append(1)\n",
        "  else:\n",
        "    Y_pred_lrc.append(0) "
      ],
      "execution_count": null,
      "outputs": []
    },
    {
      "cell_type": "code",
      "metadata": {
        "colab": {
          "base_uri": "https://localhost:8080/"
        },
        "id": "UmUsM_kXByuG",
        "outputId": "be095d52-232c-4dc3-8c39-7735d6ef7da4"
      },
      "source": [
        "from sklearn.metrics import accuracy_score\n",
        "# Accuracy score\n",
        "result2 = accuracy_score(Y_test, Y_pred_lrc)\n",
        "print(\"\\nAccuracy:\",result2)"
      ],
      "execution_count": null,
      "outputs": [
        {
          "output_type": "stream",
          "text": [
            "\n",
            "Accuracy: 0.7886178861788617\n"
          ],
          "name": "stdout"
        }
      ]
    },
    {
      "cell_type": "markdown",
      "metadata": {
        "id": "0_azK9WCkco9"
      },
      "source": [
        "# LOGISTIC REGRESSION"
      ]
    },
    {
      "cell_type": "code",
      "metadata": {
        "id": "GFD7MLphijxZ"
      },
      "source": [
        "from sklearn.linear_model import LogisticRegression\n",
        "\n",
        "LR = LogisticRegression(solver='lbfgs')\n",
        "LR.fit(X_train, Y_train)\n",
        "Y_pred_LR = LR.predict(X_test)"
      ],
      "execution_count": null,
      "outputs": []
    },
    {
      "cell_type": "code",
      "metadata": {
        "colab": {
          "base_uri": "https://localhost:8080/"
        },
        "id": "kLmKdQ0ntjVF",
        "outputId": "20763f5b-fb15-4892-bedc-5b7c62de7484"
      },
      "source": [
        "from sklearn.metrics import accuracy_score\n",
        "\n",
        "result2 = accuracy_score(Y_test, Y_pred_LR)\n",
        "print(\"\\nAccuracy:\",result2)"
      ],
      "execution_count": null,
      "outputs": [
        {
          "output_type": "stream",
          "text": [
            "\n",
            "Accuracy: 0.8292682926829268\n"
          ],
          "name": "stdout"
        }
      ]
    },
    {
      "cell_type": "markdown",
      "metadata": {
        "id": "j1yQ8waqsIrk"
      },
      "source": [
        "# SUPPORT VECTOR MACHINES (SVM)\n",
        "\n",
        "\n",
        "\n",
        "\n",
        "\n"
      ]
    },
    {
      "cell_type": "code",
      "metadata": {
        "id": "ZR5OW0zJnJOJ"
      },
      "source": [
        "from sklearn.svm import SVC\n",
        "\n",
        "SVM = SVC(kernel='linear')\n",
        "SVM.fit(X_train, Y_train) \n",
        "Y_pred_SVM = SVM.predict(X_test)"
      ],
      "execution_count": null,
      "outputs": []
    },
    {
      "cell_type": "code",
      "metadata": {
        "colab": {
          "base_uri": "https://localhost:8080/"
        },
        "id": "3fCkGEReynoS",
        "outputId": "3d1bbbdd-7d58-441e-b787-74c53ef9bbc0"
      },
      "source": [
        "# Accuracy score\n",
        "result2 = accuracy_score(Y_test, Y_pred_SVM)\n",
        "print(\"\\nAccuracy:\",result2)"
      ],
      "execution_count": null,
      "outputs": [
        {
          "output_type": "stream",
          "text": [
            "\n",
            "Accuracy: 0.8130081300813008\n"
          ],
          "name": "stdout"
        }
      ]
    },
    {
      "cell_type": "markdown",
      "metadata": {
        "id": "4j6N7Iwusr83"
      },
      "source": [
        "# RANDOM FOREST CLASSIFIER"
      ]
    },
    {
      "cell_type": "code",
      "metadata": {
        "id": "eDi3L9_B1UQ4"
      },
      "source": [
        "from sklearn.ensemble import RandomForestClassifier\n",
        "random_forest = RandomForestClassifier(n_estimators= 100)\n",
        "random_forest.fit(X_train, Y_train)\n",
        "Y_pred_rf = random_forest.predict(X_test)"
      ],
      "execution_count": null,
      "outputs": []
    },
    {
      "cell_type": "code",
      "metadata": {
        "colab": {
          "base_uri": "https://localhost:8080/"
        },
        "id": "q0REes8Wthrr",
        "outputId": "a5c6ada1-a96d-48cd-b17e-a73723dcc159"
      },
      "source": [
        "# Accuracy score\n",
        "result2 = accuracy_score(Y_test, Y_pred_rf)\n",
        "print(\"\\nAccuracy:\",result2)"
      ],
      "execution_count": null,
      "outputs": [
        {
          "output_type": "stream",
          "text": [
            "\n",
            "Accuracy: 0.8292682926829268\n"
          ],
          "name": "stdout"
        }
      ]
    },
    {
      "cell_type": "markdown",
      "metadata": {
        "id": "pwN5vTxBuEiK"
      },
      "source": [
        "# NEURAL NETWORK"
      ]
    },
    {
      "cell_type": "code",
      "metadata": {
        "colab": {
          "base_uri": "https://localhost:8080/"
        },
        "id": "fzoGEXVZtx0x",
        "outputId": "bf481096-5f6c-42a1-f9c9-61c7c1d1600f"
      },
      "source": [
        "from keras.layers import Dropout\n",
        "from keras import regularizers\n",
        "from keras.callbacks import EarlyStopping\n",
        "from keras.models import Sequential\n",
        "from keras.layers import Dense\n",
        "\n",
        "model = Sequential()\n",
        "model.add(Dense(16 ,activation='relu',input_shape=(14,))) \n",
        "model.add(Dense(16,activation='relu'))\n",
        "model.add(Dropout(0.3))\n",
        "model.add(Dense(1,activation='sigmoid'))\n",
        "\n",
        "model.compile(loss='binary_crossentropy',optimizer='rmsprop', metrics=['accuracy'])\n",
        "\n",
        "hist = model.fit(X_train, Y_train,epochs=300,verbose=1, validation_split=0.1)\n",
        "accuracy = model.evaluate(X_test,Y_test)[1]\n"
      ],
      "execution_count": null,
      "outputs": [
        {
          "output_type": "stream",
          "text": [
            "Epoch 1/300\n",
            "14/14 [==============================] - 1s 33ms/step - loss: 644.9342 - accuracy: 0.4702 - val_loss: 58.2916 - val_accuracy: 0.4200\n",
            "Epoch 2/300\n",
            "14/14 [==============================] - 0s 5ms/step - loss: 404.0068 - accuracy: 0.5505 - val_loss: 16.4476 - val_accuracy: 0.6800\n",
            "Epoch 3/300\n",
            "14/14 [==============================] - 0s 4ms/step - loss: 346.9683 - accuracy: 0.5190 - val_loss: 33.3986 - val_accuracy: 0.7200\n",
            "Epoch 4/300\n",
            "14/14 [==============================] - 0s 5ms/step - loss: 220.5878 - accuracy: 0.5785 - val_loss: 31.5050 - val_accuracy: 0.7200\n",
            "Epoch 5/300\n",
            "14/14 [==============================] - 0s 5ms/step - loss: 237.9586 - accuracy: 0.5766 - val_loss: 12.1917 - val_accuracy: 0.7600\n",
            "Epoch 6/300\n",
            "14/14 [==============================] - 0s 5ms/step - loss: 162.9829 - accuracy: 0.5846 - val_loss: 41.3104 - val_accuracy: 0.7200\n",
            "Epoch 7/300\n",
            "14/14 [==============================] - 0s 5ms/step - loss: 220.7441 - accuracy: 0.5648 - val_loss: 11.1583 - val_accuracy: 0.6400\n",
            "Epoch 8/300\n",
            "14/14 [==============================] - 0s 5ms/step - loss: 140.3237 - accuracy: 0.4872 - val_loss: 11.3351 - val_accuracy: 0.5600\n",
            "Epoch 9/300\n",
            "14/14 [==============================] - 0s 5ms/step - loss: 93.8898 - accuracy: 0.5414 - val_loss: 14.8922 - val_accuracy: 0.7200\n",
            "Epoch 10/300\n",
            "14/14 [==============================] - 0s 5ms/step - loss: 69.0973 - accuracy: 0.5542 - val_loss: 19.6087 - val_accuracy: 0.7200\n",
            "Epoch 11/300\n",
            "14/14 [==============================] - 0s 4ms/step - loss: 53.5854 - accuracy: 0.5877 - val_loss: 14.0410 - val_accuracy: 0.4800\n",
            "Epoch 12/300\n",
            "14/14 [==============================] - 0s 5ms/step - loss: 41.5712 - accuracy: 0.5376 - val_loss: 20.0064 - val_accuracy: 0.4600\n",
            "Epoch 13/300\n",
            "14/14 [==============================] - 0s 5ms/step - loss: 16.7584 - accuracy: 0.5486 - val_loss: 5.8612 - val_accuracy: 0.7000\n",
            "Epoch 14/300\n",
            "14/14 [==============================] - 0s 6ms/step - loss: 15.7708 - accuracy: 0.5575 - val_loss: 4.4142 - val_accuracy: 0.6800\n",
            "Epoch 15/300\n",
            "14/14 [==============================] - 0s 5ms/step - loss: 9.6603 - accuracy: 0.6198 - val_loss: 1.1583 - val_accuracy: 0.6800\n",
            "Epoch 16/300\n",
            "14/14 [==============================] - 0s 5ms/step - loss: 6.0415 - accuracy: 0.6007 - val_loss: 0.7973 - val_accuracy: 0.6400\n",
            "Epoch 17/300\n",
            "14/14 [==============================] - 0s 5ms/step - loss: 4.6859 - accuracy: 0.5343 - val_loss: 0.7763 - val_accuracy: 0.6400\n",
            "Epoch 18/300\n",
            "14/14 [==============================] - 0s 5ms/step - loss: 2.0930 - accuracy: 0.6140 - val_loss: 1.1261 - val_accuracy: 0.2600\n",
            "Epoch 19/300\n",
            "14/14 [==============================] - 0s 4ms/step - loss: 1.8011 - accuracy: 0.5672 - val_loss: 0.7443 - val_accuracy: 0.7000\n",
            "Epoch 20/300\n",
            "14/14 [==============================] - 0s 5ms/step - loss: 1.5208 - accuracy: 0.6431 - val_loss: 2.6758 - val_accuracy: 0.5800\n",
            "Epoch 21/300\n",
            "14/14 [==============================] - 0s 5ms/step - loss: 1.0504 - accuracy: 0.6945 - val_loss: 0.8381 - val_accuracy: 0.6800\n",
            "Epoch 22/300\n",
            "14/14 [==============================] - 0s 5ms/step - loss: 1.3423 - accuracy: 0.6185 - val_loss: 0.6476 - val_accuracy: 0.7400\n",
            "Epoch 23/300\n",
            "14/14 [==============================] - 0s 5ms/step - loss: 0.7064 - accuracy: 0.6756 - val_loss: 0.5721 - val_accuracy: 0.7200\n",
            "Epoch 24/300\n",
            "14/14 [==============================] - 0s 5ms/step - loss: 0.7778 - accuracy: 0.6294 - val_loss: 0.5952 - val_accuracy: 0.7200\n",
            "Epoch 25/300\n",
            "14/14 [==============================] - 0s 5ms/step - loss: 0.6460 - accuracy: 0.7008 - val_loss: 0.6127 - val_accuracy: 0.7200\n",
            "Epoch 26/300\n",
            "14/14 [==============================] - 0s 5ms/step - loss: 0.6938 - accuracy: 0.6740 - val_loss: 0.6362 - val_accuracy: 0.7200\n",
            "Epoch 27/300\n",
            "14/14 [==============================] - 0s 5ms/step - loss: 0.6480 - accuracy: 0.7034 - val_loss: 0.6192 - val_accuracy: 0.7200\n",
            "Epoch 28/300\n",
            "14/14 [==============================] - 0s 5ms/step - loss: 0.6972 - accuracy: 0.6610 - val_loss: 0.6254 - val_accuracy: 0.7200\n",
            "Epoch 29/300\n",
            "14/14 [==============================] - 0s 5ms/step - loss: 0.6556 - accuracy: 0.6849 - val_loss: 0.6353 - val_accuracy: 0.7200\n",
            "Epoch 30/300\n",
            "14/14 [==============================] - 0s 5ms/step - loss: 0.6995 - accuracy: 0.6832 - val_loss: 0.6314 - val_accuracy: 0.7200\n",
            "Epoch 31/300\n",
            "14/14 [==============================] - 0s 5ms/step - loss: 0.6586 - accuracy: 0.6883 - val_loss: 0.6360 - val_accuracy: 0.7200\n",
            "Epoch 32/300\n",
            "14/14 [==============================] - 0s 5ms/step - loss: 0.6494 - accuracy: 0.6942 - val_loss: 0.6377 - val_accuracy: 0.7200\n",
            "Epoch 33/300\n",
            "14/14 [==============================] - 0s 5ms/step - loss: 0.6511 - accuracy: 0.7105 - val_loss: 0.6438 - val_accuracy: 0.7200\n",
            "Epoch 34/300\n",
            "14/14 [==============================] - 0s 5ms/step - loss: 0.6542 - accuracy: 0.6773 - val_loss: 0.6619 - val_accuracy: 0.6800\n",
            "Epoch 35/300\n",
            "14/14 [==============================] - 0s 5ms/step - loss: 0.6616 - accuracy: 0.6743 - val_loss: 0.6522 - val_accuracy: 0.7200\n",
            "Epoch 36/300\n",
            "14/14 [==============================] - 0s 5ms/step - loss: 0.6625 - accuracy: 0.6656 - val_loss: 0.6558 - val_accuracy: 0.7000\n",
            "Epoch 37/300\n",
            "14/14 [==============================] - 0s 4ms/step - loss: 0.6709 - accuracy: 0.6669 - val_loss: 0.6359 - val_accuracy: 0.7200\n",
            "Epoch 38/300\n",
            "14/14 [==============================] - 0s 6ms/step - loss: 0.6661 - accuracy: 0.6774 - val_loss: 0.6396 - val_accuracy: 0.7200\n",
            "Epoch 39/300\n",
            "14/14 [==============================] - 0s 5ms/step - loss: 0.6670 - accuracy: 0.6657 - val_loss: 0.6422 - val_accuracy: 0.7200\n",
            "Epoch 40/300\n",
            "14/14 [==============================] - 0s 5ms/step - loss: 0.6374 - accuracy: 0.7013 - val_loss: 0.6368 - val_accuracy: 0.7200\n",
            "Epoch 41/300\n",
            "14/14 [==============================] - 0s 6ms/step - loss: 0.6513 - accuracy: 0.7097 - val_loss: 0.6378 - val_accuracy: 0.7200\n",
            "Epoch 42/300\n",
            "14/14 [==============================] - 0s 5ms/step - loss: 0.6408 - accuracy: 0.6997 - val_loss: 0.6360 - val_accuracy: 0.7200\n",
            "Epoch 43/300\n",
            "14/14 [==============================] - 0s 5ms/step - loss: 0.6583 - accuracy: 0.6923 - val_loss: 0.6296 - val_accuracy: 0.7400\n",
            "Epoch 44/300\n",
            "14/14 [==============================] - 0s 5ms/step - loss: 1.0062 - accuracy: 0.6924 - val_loss: 0.6322 - val_accuracy: 0.7400\n",
            "Epoch 45/300\n",
            "14/14 [==============================] - 0s 5ms/step - loss: 0.6611 - accuracy: 0.6507 - val_loss: 0.6335 - val_accuracy: 0.7200\n",
            "Epoch 46/300\n",
            "14/14 [==============================] - 0s 5ms/step - loss: 0.6384 - accuracy: 0.6773 - val_loss: 0.6316 - val_accuracy: 0.7200\n",
            "Epoch 47/300\n",
            "14/14 [==============================] - 0s 5ms/step - loss: 0.6418 - accuracy: 0.6795 - val_loss: 0.6311 - val_accuracy: 0.7200\n",
            "Epoch 48/300\n",
            "14/14 [==============================] - 0s 5ms/step - loss: 0.6518 - accuracy: 0.6896 - val_loss: 0.6294 - val_accuracy: 0.7200\n",
            "Epoch 49/300\n",
            "14/14 [==============================] - 0s 4ms/step - loss: 0.6399 - accuracy: 0.6943 - val_loss: 0.6273 - val_accuracy: 0.7200\n",
            "Epoch 50/300\n",
            "14/14 [==============================] - 0s 5ms/step - loss: 0.6693 - accuracy: 0.6863 - val_loss: 0.6270 - val_accuracy: 0.7200\n",
            "Epoch 51/300\n",
            "14/14 [==============================] - 0s 6ms/step - loss: 0.6669 - accuracy: 0.6383 - val_loss: 0.6271 - val_accuracy: 0.7200\n",
            "Epoch 52/300\n",
            "14/14 [==============================] - 0s 5ms/step - loss: 0.6301 - accuracy: 0.6908 - val_loss: 0.6247 - val_accuracy: 0.7200\n",
            "Epoch 53/300\n",
            "14/14 [==============================] - 0s 5ms/step - loss: 0.6253 - accuracy: 0.7123 - val_loss: 0.6233 - val_accuracy: 0.7200\n",
            "Epoch 54/300\n",
            "14/14 [==============================] - 0s 5ms/step - loss: 0.6346 - accuracy: 0.6878 - val_loss: 0.6205 - val_accuracy: 0.7200\n",
            "Epoch 55/300\n",
            "14/14 [==============================] - 0s 5ms/step - loss: 0.6530 - accuracy: 0.6865 - val_loss: 0.6217 - val_accuracy: 0.7200\n",
            "Epoch 56/300\n",
            "14/14 [==============================] - 0s 5ms/step - loss: 0.6542 - accuracy: 0.6941 - val_loss: 0.6208 - val_accuracy: 0.7200\n",
            "Epoch 57/300\n",
            "14/14 [==============================] - 0s 5ms/step - loss: 0.6239 - accuracy: 0.6997 - val_loss: 0.6207 - val_accuracy: 0.7200\n",
            "Epoch 58/300\n",
            "14/14 [==============================] - 0s 5ms/step - loss: 0.6800 - accuracy: 0.6504 - val_loss: 0.6191 - val_accuracy: 0.7200\n",
            "Epoch 59/300\n",
            "14/14 [==============================] - 0s 6ms/step - loss: 0.6365 - accuracy: 0.6729 - val_loss: 0.6183 - val_accuracy: 0.7200\n",
            "Epoch 60/300\n",
            "14/14 [==============================] - 0s 5ms/step - loss: 0.6211 - accuracy: 0.7089 - val_loss: 0.6183 - val_accuracy: 0.7200\n",
            "Epoch 61/300\n",
            "14/14 [==============================] - 0s 4ms/step - loss: 0.6309 - accuracy: 0.6804 - val_loss: 0.6166 - val_accuracy: 0.7200\n",
            "Epoch 62/300\n",
            "14/14 [==============================] - 0s 5ms/step - loss: 0.6289 - accuracy: 0.6880 - val_loss: 0.6158 - val_accuracy: 0.7200\n",
            "Epoch 63/300\n",
            "14/14 [==============================] - 0s 5ms/step - loss: 0.6317 - accuracy: 0.6875 - val_loss: 0.6120 - val_accuracy: 0.7200\n",
            "Epoch 64/300\n",
            "14/14 [==============================] - 0s 5ms/step - loss: 0.6425 - accuracy: 0.6496 - val_loss: 0.6142 - val_accuracy: 0.7200\n",
            "Epoch 65/300\n",
            "14/14 [==============================] - 0s 5ms/step - loss: 0.6393 - accuracy: 0.7134 - val_loss: 0.6126 - val_accuracy: 0.7200\n",
            "Epoch 66/300\n",
            "14/14 [==============================] - 0s 5ms/step - loss: 0.6387 - accuracy: 0.6709 - val_loss: 0.6439 - val_accuracy: 0.7000\n",
            "Epoch 67/300\n",
            "14/14 [==============================] - 0s 5ms/step - loss: 0.6233 - accuracy: 0.7080 - val_loss: 0.6121 - val_accuracy: 0.7200\n",
            "Epoch 68/300\n",
            "14/14 [==============================] - 0s 5ms/step - loss: 0.6327 - accuracy: 0.6917 - val_loss: 0.6115 - val_accuracy: 0.7200\n",
            "Epoch 69/300\n",
            "14/14 [==============================] - 0s 5ms/step - loss: 0.6241 - accuracy: 0.7095 - val_loss: 0.6127 - val_accuracy: 0.7200\n",
            "Epoch 70/300\n",
            "14/14 [==============================] - 0s 4ms/step - loss: 0.6371 - accuracy: 0.6802 - val_loss: 0.6112 - val_accuracy: 0.7200\n",
            "Epoch 71/300\n",
            "14/14 [==============================] - 0s 5ms/step - loss: 0.6310 - accuracy: 0.6890 - val_loss: 0.6097 - val_accuracy: 0.7200\n",
            "Epoch 72/300\n",
            "14/14 [==============================] - 0s 5ms/step - loss: 0.6221 - accuracy: 0.6929 - val_loss: 0.6087 - val_accuracy: 0.7200\n",
            "Epoch 73/300\n",
            "14/14 [==============================] - 0s 5ms/step - loss: 0.6329 - accuracy: 0.6754 - val_loss: 0.6089 - val_accuracy: 0.7200\n",
            "Epoch 74/300\n",
            "14/14 [==============================] - 0s 5ms/step - loss: 0.6414 - accuracy: 0.6556 - val_loss: 0.6096 - val_accuracy: 0.7200\n",
            "Epoch 75/300\n",
            "14/14 [==============================] - 0s 5ms/step - loss: 0.6210 - accuracy: 0.6897 - val_loss: 0.6085 - val_accuracy: 0.7200\n",
            "Epoch 76/300\n",
            "14/14 [==============================] - 0s 5ms/step - loss: 0.6239 - accuracy: 0.6842 - val_loss: 0.6072 - val_accuracy: 0.7200\n",
            "Epoch 77/300\n",
            "14/14 [==============================] - 0s 6ms/step - loss: 0.6229 - accuracy: 0.6783 - val_loss: 0.6112 - val_accuracy: 0.7200\n",
            "Epoch 78/300\n",
            "14/14 [==============================] - 0s 5ms/step - loss: 0.6551 - accuracy: 0.6439 - val_loss: 0.6065 - val_accuracy: 0.7200\n",
            "Epoch 79/300\n",
            "14/14 [==============================] - 0s 5ms/step - loss: 0.6316 - accuracy: 0.6925 - val_loss: 0.6057 - val_accuracy: 0.7200\n",
            "Epoch 80/300\n",
            "14/14 [==============================] - 0s 5ms/step - loss: 0.6117 - accuracy: 0.6993 - val_loss: 0.6074 - val_accuracy: 0.7200\n",
            "Epoch 81/300\n",
            "14/14 [==============================] - 0s 6ms/step - loss: 0.6255 - accuracy: 0.6772 - val_loss: 0.6055 - val_accuracy: 0.7200\n",
            "Epoch 82/300\n",
            "14/14 [==============================] - 0s 5ms/step - loss: 0.6321 - accuracy: 0.6779 - val_loss: 0.6041 - val_accuracy: 0.7200\n",
            "Epoch 83/300\n",
            "14/14 [==============================] - 0s 5ms/step - loss: 0.7317 - accuracy: 0.6684 - val_loss: 0.6044 - val_accuracy: 0.7200\n",
            "Epoch 84/300\n",
            "14/14 [==============================] - 0s 4ms/step - loss: 0.6052 - accuracy: 0.7303 - val_loss: 0.6036 - val_accuracy: 0.7200\n",
            "Epoch 85/300\n",
            "14/14 [==============================] - 0s 5ms/step - loss: 0.6302 - accuracy: 0.7004 - val_loss: 0.6036 - val_accuracy: 0.7200\n",
            "Epoch 86/300\n",
            "14/14 [==============================] - 0s 5ms/step - loss: 0.6133 - accuracy: 0.7022 - val_loss: 0.6035 - val_accuracy: 0.7200\n",
            "Epoch 87/300\n",
            "14/14 [==============================] - 0s 5ms/step - loss: 0.6228 - accuracy: 0.6854 - val_loss: 0.6077 - val_accuracy: 0.7200\n",
            "Epoch 88/300\n",
            "14/14 [==============================] - 0s 5ms/step - loss: 0.6257 - accuracy: 0.6811 - val_loss: 0.6035 - val_accuracy: 0.7200\n",
            "Epoch 89/300\n",
            "14/14 [==============================] - 0s 5ms/step - loss: 0.6319 - accuracy: 0.6654 - val_loss: 0.6376 - val_accuracy: 0.7000\n",
            "Epoch 90/300\n",
            "14/14 [==============================] - 0s 5ms/step - loss: 0.8071 - accuracy: 0.7008 - val_loss: 0.6018 - val_accuracy: 0.7200\n",
            "Epoch 91/300\n",
            "14/14 [==============================] - 0s 5ms/step - loss: 0.6266 - accuracy: 0.6779 - val_loss: 0.6046 - val_accuracy: 0.7200\n",
            "Epoch 92/300\n",
            "14/14 [==============================] - 0s 4ms/step - loss: 0.6391 - accuracy: 0.6700 - val_loss: 0.6020 - val_accuracy: 0.7200\n",
            "Epoch 93/300\n",
            "14/14 [==============================] - 0s 7ms/step - loss: 0.6152 - accuracy: 0.6966 - val_loss: 0.6012 - val_accuracy: 0.7200\n",
            "Epoch 94/300\n",
            "14/14 [==============================] - 0s 5ms/step - loss: 0.6267 - accuracy: 0.6789 - val_loss: 0.6011 - val_accuracy: 0.7200\n",
            "Epoch 95/300\n",
            "14/14 [==============================] - 0s 5ms/step - loss: 0.6323 - accuracy: 0.6692 - val_loss: 0.6018 - val_accuracy: 0.7200\n",
            "Epoch 96/300\n",
            "14/14 [==============================] - 0s 5ms/step - loss: 0.6115 - accuracy: 0.7083 - val_loss: 0.6008 - val_accuracy: 0.7200\n",
            "Epoch 97/300\n",
            "14/14 [==============================] - 0s 5ms/step - loss: 0.5999 - accuracy: 0.7145 - val_loss: 0.6028 - val_accuracy: 0.7200\n",
            "Epoch 98/300\n",
            "14/14 [==============================] - 0s 5ms/step - loss: 0.6244 - accuracy: 0.6878 - val_loss: 0.6017 - val_accuracy: 0.7200\n",
            "Epoch 99/300\n",
            "14/14 [==============================] - 0s 4ms/step - loss: 0.6077 - accuracy: 0.6947 - val_loss: 0.6032 - val_accuracy: 0.7200\n",
            "Epoch 100/300\n",
            "14/14 [==============================] - 0s 5ms/step - loss: 0.6185 - accuracy: 0.6951 - val_loss: 0.6017 - val_accuracy: 0.7200\n",
            "Epoch 101/300\n",
            "14/14 [==============================] - 0s 6ms/step - loss: 0.6342 - accuracy: 0.6779 - val_loss: 0.6007 - val_accuracy: 0.7200\n",
            "Epoch 102/300\n",
            "14/14 [==============================] - 0s 5ms/step - loss: 0.5999 - accuracy: 0.7144 - val_loss: 0.6006 - val_accuracy: 0.7200\n",
            "Epoch 103/300\n",
            "14/14 [==============================] - 0s 5ms/step - loss: 0.6390 - accuracy: 0.6643 - val_loss: 0.6007 - val_accuracy: 0.7200\n",
            "Epoch 104/300\n",
            "14/14 [==============================] - 0s 5ms/step - loss: 0.6026 - accuracy: 0.6958 - val_loss: 0.7660 - val_accuracy: 0.7000\n",
            "Epoch 105/300\n",
            "14/14 [==============================] - 0s 5ms/step - loss: 0.7359 - accuracy: 0.6966 - val_loss: 0.6008 - val_accuracy: 0.7200\n",
            "Epoch 106/300\n",
            "14/14 [==============================] - 0s 6ms/step - loss: 0.6231 - accuracy: 0.6829 - val_loss: 0.6001 - val_accuracy: 0.7200\n",
            "Epoch 107/300\n",
            "14/14 [==============================] - 0s 4ms/step - loss: 0.6608 - accuracy: 0.6701 - val_loss: 0.6039 - val_accuracy: 0.7200\n",
            "Epoch 108/300\n",
            "14/14 [==============================] - 0s 5ms/step - loss: 0.6199 - accuracy: 0.6846 - val_loss: 0.6029 - val_accuracy: 0.7200\n",
            "Epoch 109/300\n",
            "14/14 [==============================] - 0s 5ms/step - loss: 0.6229 - accuracy: 0.6930 - val_loss: 0.6006 - val_accuracy: 0.7200\n",
            "Epoch 110/300\n",
            "14/14 [==============================] - 0s 5ms/step - loss: 0.5948 - accuracy: 0.7191 - val_loss: 0.6004 - val_accuracy: 0.7200\n",
            "Epoch 111/300\n",
            "14/14 [==============================] - 0s 6ms/step - loss: 0.6172 - accuracy: 0.6913 - val_loss: 0.6057 - val_accuracy: 0.7200\n",
            "Epoch 112/300\n",
            "14/14 [==============================] - 0s 5ms/step - loss: 0.6239 - accuracy: 0.6816 - val_loss: 0.6067 - val_accuracy: 0.7200\n",
            "Epoch 113/300\n",
            "14/14 [==============================] - 0s 5ms/step - loss: 0.6264 - accuracy: 0.6891 - val_loss: 0.6000 - val_accuracy: 0.7200\n",
            "Epoch 114/300\n",
            "14/14 [==============================] - 0s 5ms/step - loss: 0.6129 - accuracy: 0.6928 - val_loss: 0.6008 - val_accuracy: 0.7200\n",
            "Epoch 115/300\n",
            "14/14 [==============================] - 0s 5ms/step - loss: 0.6185 - accuracy: 0.6887 - val_loss: 0.6007 - val_accuracy: 0.7200\n",
            "Epoch 116/300\n",
            "14/14 [==============================] - 0s 5ms/step - loss: 0.6468 - accuracy: 0.6486 - val_loss: 0.6039 - val_accuracy: 0.7200\n",
            "Epoch 117/300\n",
            "14/14 [==============================] - 0s 5ms/step - loss: 0.6280 - accuracy: 0.6712 - val_loss: 0.6010 - val_accuracy: 0.7200\n",
            "Epoch 118/300\n",
            "14/14 [==============================] - 0s 5ms/step - loss: 0.6263 - accuracy: 0.6803 - val_loss: 0.6013 - val_accuracy: 0.7200\n",
            "Epoch 119/300\n",
            "14/14 [==============================] - 0s 6ms/step - loss: 0.5975 - accuracy: 0.7143 - val_loss: 0.5987 - val_accuracy: 0.7200\n",
            "Epoch 120/300\n",
            "14/14 [==============================] - 0s 5ms/step - loss: 0.6301 - accuracy: 0.6758 - val_loss: 0.5988 - val_accuracy: 0.7200\n",
            "Epoch 121/300\n",
            "14/14 [==============================] - 0s 5ms/step - loss: 0.6048 - accuracy: 0.7062 - val_loss: 0.5983 - val_accuracy: 0.7200\n",
            "Epoch 122/300\n",
            "14/14 [==============================] - 0s 5ms/step - loss: 0.9788 - accuracy: 0.6621 - val_loss: 0.5993 - val_accuracy: 0.7200\n",
            "Epoch 123/300\n",
            "14/14 [==============================] - 0s 5ms/step - loss: 0.6112 - accuracy: 0.6932 - val_loss: 0.6005 - val_accuracy: 0.7200\n",
            "Epoch 124/300\n",
            "14/14 [==============================] - 0s 5ms/step - loss: 0.6235 - accuracy: 0.6746 - val_loss: 0.6020 - val_accuracy: 0.7200\n",
            "Epoch 125/300\n",
            "14/14 [==============================] - 0s 5ms/step - loss: 0.6382 - accuracy: 0.6629 - val_loss: 0.5999 - val_accuracy: 0.7200\n",
            "Epoch 126/300\n",
            "14/14 [==============================] - 0s 5ms/step - loss: 0.5976 - accuracy: 0.7202 - val_loss: 0.5994 - val_accuracy: 0.7200\n",
            "Epoch 127/300\n",
            "14/14 [==============================] - 0s 4ms/step - loss: 0.6222 - accuracy: 0.6858 - val_loss: 0.6008 - val_accuracy: 0.7200\n",
            "Epoch 128/300\n",
            "14/14 [==============================] - 0s 5ms/step - loss: 0.6132 - accuracy: 0.6924 - val_loss: 0.5995 - val_accuracy: 0.7200\n",
            "Epoch 129/300\n",
            "14/14 [==============================] - 0s 6ms/step - loss: 0.6327 - accuracy: 0.6686 - val_loss: 0.6006 - val_accuracy: 0.7200\n",
            "Epoch 130/300\n",
            "14/14 [==============================] - 0s 6ms/step - loss: 0.6480 - accuracy: 0.6501 - val_loss: 0.6066 - val_accuracy: 0.7200\n",
            "Epoch 131/300\n",
            "14/14 [==============================] - 0s 5ms/step - loss: 0.6195 - accuracy: 0.7134 - val_loss: 0.5998 - val_accuracy: 0.7200\n",
            "Epoch 132/300\n",
            "14/14 [==============================] - 0s 5ms/step - loss: 0.6034 - accuracy: 0.7086 - val_loss: 0.6005 - val_accuracy: 0.7200\n",
            "Epoch 133/300\n",
            "14/14 [==============================] - 0s 5ms/step - loss: 0.6167 - accuracy: 0.6925 - val_loss: 0.5999 - val_accuracy: 0.7200\n",
            "Epoch 134/300\n",
            "14/14 [==============================] - 0s 5ms/step - loss: 0.6233 - accuracy: 0.6949 - val_loss: 0.5883 - val_accuracy: 0.7400\n",
            "Epoch 135/300\n",
            "14/14 [==============================] - 0s 5ms/step - loss: 0.6216 - accuracy: 0.6921 - val_loss: 0.6017 - val_accuracy: 0.7200\n",
            "Epoch 136/300\n",
            "14/14 [==============================] - 0s 5ms/step - loss: 0.6217 - accuracy: 0.6736 - val_loss: 0.6027 - val_accuracy: 0.7200\n",
            "Epoch 137/300\n",
            "14/14 [==============================] - 0s 7ms/step - loss: 0.6091 - accuracy: 0.6947 - val_loss: 0.6017 - val_accuracy: 0.7200\n",
            "Epoch 138/300\n",
            "14/14 [==============================] - 0s 5ms/step - loss: 0.6099 - accuracy: 0.7013 - val_loss: 0.8218 - val_accuracy: 0.7000\n",
            "Epoch 139/300\n",
            "14/14 [==============================] - 0s 5ms/step - loss: 0.6073 - accuracy: 0.7027 - val_loss: 0.6031 - val_accuracy: 0.7200\n",
            "Epoch 140/300\n",
            "14/14 [==============================] - 0s 5ms/step - loss: 0.6159 - accuracy: 0.6818 - val_loss: 0.6003 - val_accuracy: 0.7200\n",
            "Epoch 141/300\n",
            "14/14 [==============================] - 0s 5ms/step - loss: 0.5985 - accuracy: 0.7112 - val_loss: 0.6094 - val_accuracy: 0.7200\n",
            "Epoch 142/300\n",
            "14/14 [==============================] - 0s 5ms/step - loss: 0.6568 - accuracy: 0.6763 - val_loss: 0.6059 - val_accuracy: 0.7200\n",
            "Epoch 143/300\n",
            "14/14 [==============================] - 0s 6ms/step - loss: 0.6328 - accuracy: 0.6840 - val_loss: 0.5833 - val_accuracy: 0.7400\n",
            "Epoch 144/300\n",
            "14/14 [==============================] - 0s 5ms/step - loss: 0.6142 - accuracy: 0.6966 - val_loss: 0.6013 - val_accuracy: 0.7200\n",
            "Epoch 145/300\n",
            "14/14 [==============================] - 0s 6ms/step - loss: 0.6106 - accuracy: 0.6984 - val_loss: 0.6040 - val_accuracy: 0.7200\n",
            "Epoch 146/300\n",
            "14/14 [==============================] - 0s 5ms/step - loss: 0.6580 - accuracy: 0.6573 - val_loss: 0.6026 - val_accuracy: 0.7200\n",
            "Epoch 147/300\n",
            "14/14 [==============================] - 0s 5ms/step - loss: 0.6083 - accuracy: 0.6990 - val_loss: 0.5996 - val_accuracy: 0.7200\n",
            "Epoch 148/300\n",
            "14/14 [==============================] - 0s 6ms/step - loss: 0.6434 - accuracy: 0.6509 - val_loss: 0.5991 - val_accuracy: 0.7200\n",
            "Epoch 149/300\n",
            "14/14 [==============================] - 0s 5ms/step - loss: 0.6176 - accuracy: 0.6874 - val_loss: 0.6009 - val_accuracy: 0.7200\n",
            "Epoch 150/300\n",
            "14/14 [==============================] - 0s 5ms/step - loss: 0.6123 - accuracy: 0.6931 - val_loss: 0.6008 - val_accuracy: 0.7200\n",
            "Epoch 151/300\n",
            "14/14 [==============================] - 0s 6ms/step - loss: 0.5926 - accuracy: 0.7172 - val_loss: 0.5999 - val_accuracy: 0.7200\n",
            "Epoch 152/300\n",
            "14/14 [==============================] - 0s 5ms/step - loss: 0.6343 - accuracy: 0.6697 - val_loss: 0.6002 - val_accuracy: 0.7200\n",
            "Epoch 153/300\n",
            "14/14 [==============================] - 0s 5ms/step - loss: 0.6381 - accuracy: 0.6536 - val_loss: 0.6214 - val_accuracy: 0.7200\n",
            "Epoch 154/300\n",
            "14/14 [==============================] - 0s 5ms/step - loss: 0.6286 - accuracy: 0.6723 - val_loss: 0.6022 - val_accuracy: 0.7200\n",
            "Epoch 155/300\n",
            "14/14 [==============================] - 0s 4ms/step - loss: 0.6386 - accuracy: 0.6593 - val_loss: 0.6137 - val_accuracy: 0.7200\n",
            "Epoch 156/300\n",
            "14/14 [==============================] - 0s 5ms/step - loss: 0.6180 - accuracy: 0.6886 - val_loss: 0.6038 - val_accuracy: 0.7200\n",
            "Epoch 157/300\n",
            "14/14 [==============================] - 0s 6ms/step - loss: 0.6270 - accuracy: 0.6786 - val_loss: 0.6031 - val_accuracy: 0.7200\n",
            "Epoch 158/300\n",
            "14/14 [==============================] - 0s 6ms/step - loss: 0.6147 - accuracy: 0.6933 - val_loss: 0.6035 - val_accuracy: 0.7200\n",
            "Epoch 159/300\n",
            "14/14 [==============================] - 0s 5ms/step - loss: 0.6272 - accuracy: 0.6798 - val_loss: 0.6016 - val_accuracy: 0.7200\n",
            "Epoch 160/300\n",
            "14/14 [==============================] - 0s 5ms/step - loss: 0.6291 - accuracy: 0.6701 - val_loss: 0.6019 - val_accuracy: 0.7200\n",
            "Epoch 161/300\n",
            "14/14 [==============================] - 0s 5ms/step - loss: 0.5998 - accuracy: 0.7081 - val_loss: 0.6934 - val_accuracy: 0.7000\n",
            "Epoch 162/300\n",
            "14/14 [==============================] - 0s 5ms/step - loss: 0.6472 - accuracy: 0.6766 - val_loss: 0.6230 - val_accuracy: 0.7200\n",
            "Epoch 163/300\n",
            "14/14 [==============================] - 0s 5ms/step - loss: 0.6229 - accuracy: 0.6883 - val_loss: 0.6018 - val_accuracy: 0.7200\n",
            "Epoch 164/300\n",
            "14/14 [==============================] - 0s 5ms/step - loss: 0.6007 - accuracy: 0.7102 - val_loss: 0.6029 - val_accuracy: 0.7200\n",
            "Epoch 165/300\n",
            "14/14 [==============================] - 0s 5ms/step - loss: 0.6192 - accuracy: 0.6877 - val_loss: 0.6026 - val_accuracy: 0.7200\n",
            "Epoch 166/300\n",
            "14/14 [==============================] - 0s 5ms/step - loss: 0.6013 - accuracy: 0.7116 - val_loss: 0.6004 - val_accuracy: 0.7200\n",
            "Epoch 167/300\n",
            "14/14 [==============================] - 0s 5ms/step - loss: 0.6369 - accuracy: 0.6672 - val_loss: 0.6014 - val_accuracy: 0.7200\n",
            "Epoch 168/300\n",
            "14/14 [==============================] - 0s 5ms/step - loss: 0.6286 - accuracy: 0.6776 - val_loss: 0.6012 - val_accuracy: 0.7200\n",
            "Epoch 169/300\n",
            "14/14 [==============================] - 0s 5ms/step - loss: 0.6291 - accuracy: 0.6741 - val_loss: 0.6146 - val_accuracy: 0.7200\n",
            "Epoch 170/300\n",
            "14/14 [==============================] - 0s 5ms/step - loss: 0.6076 - accuracy: 0.7046 - val_loss: 1.0192 - val_accuracy: 0.6800\n",
            "Epoch 171/300\n",
            "14/14 [==============================] - 0s 5ms/step - loss: 0.6427 - accuracy: 0.6705 - val_loss: 0.6045 - val_accuracy: 0.7200\n",
            "Epoch 172/300\n",
            "14/14 [==============================] - 0s 6ms/step - loss: 0.6243 - accuracy: 0.6890 - val_loss: 0.6012 - val_accuracy: 0.7200\n",
            "Epoch 173/300\n",
            "14/14 [==============================] - 0s 5ms/step - loss: 0.6144 - accuracy: 0.6875 - val_loss: 0.6026 - val_accuracy: 0.7200\n",
            "Epoch 174/300\n",
            "14/14 [==============================] - 0s 5ms/step - loss: 0.6399 - accuracy: 0.6571 - val_loss: 0.6073 - val_accuracy: 0.7200\n",
            "Epoch 175/300\n",
            "14/14 [==============================] - 0s 6ms/step - loss: 0.6046 - accuracy: 0.7110 - val_loss: 0.6033 - val_accuracy: 0.7200\n",
            "Epoch 176/300\n",
            "14/14 [==============================] - 0s 5ms/step - loss: 0.6121 - accuracy: 0.7002 - val_loss: 0.6045 - val_accuracy: 0.7200\n",
            "Epoch 177/300\n",
            "14/14 [==============================] - 0s 5ms/step - loss: 0.6105 - accuracy: 0.6973 - val_loss: 0.6020 - val_accuracy: 0.7200\n",
            "Epoch 178/300\n",
            "14/14 [==============================] - 0s 6ms/step - loss: 0.6135 - accuracy: 0.6876 - val_loss: 0.6038 - val_accuracy: 0.7200\n",
            "Epoch 179/300\n",
            "14/14 [==============================] - 0s 5ms/step - loss: 0.6038 - accuracy: 0.7005 - val_loss: 0.6043 - val_accuracy: 0.7200\n",
            "Epoch 180/300\n",
            "14/14 [==============================] - 0s 5ms/step - loss: 0.6209 - accuracy: 0.6750 - val_loss: 0.6031 - val_accuracy: 0.7200\n",
            "Epoch 181/300\n",
            "14/14 [==============================] - 0s 5ms/step - loss: 0.6193 - accuracy: 0.6974 - val_loss: 0.6032 - val_accuracy: 0.7200\n",
            "Epoch 182/300\n",
            "14/14 [==============================] - 0s 5ms/step - loss: 0.6117 - accuracy: 0.6777 - val_loss: 0.6061 - val_accuracy: 0.7200\n",
            "Epoch 183/300\n",
            "14/14 [==============================] - 0s 5ms/step - loss: 0.6200 - accuracy: 0.6876 - val_loss: 0.6065 - val_accuracy: 0.7200\n",
            "Epoch 184/300\n",
            "14/14 [==============================] - 0s 5ms/step - loss: 0.6083 - accuracy: 0.6882 - val_loss: 0.6043 - val_accuracy: 0.7200\n",
            "Epoch 185/300\n",
            "14/14 [==============================] - 0s 5ms/step - loss: 0.6326 - accuracy: 0.6690 - val_loss: 0.6027 - val_accuracy: 0.7200\n",
            "Epoch 186/300\n",
            "14/14 [==============================] - 0s 5ms/step - loss: 0.5876 - accuracy: 0.7221 - val_loss: 0.6226 - val_accuracy: 0.7200\n",
            "Epoch 187/300\n",
            "14/14 [==============================] - 0s 5ms/step - loss: 0.6304 - accuracy: 0.6862 - val_loss: 1.2588 - val_accuracy: 0.6800\n",
            "Epoch 188/300\n",
            "14/14 [==============================] - 0s 5ms/step - loss: 0.8890 - accuracy: 0.6917 - val_loss: 0.6020 - val_accuracy: 0.7200\n",
            "Epoch 189/300\n",
            "14/14 [==============================] - 0s 6ms/step - loss: 0.6252 - accuracy: 0.6833 - val_loss: 0.6081 - val_accuracy: 0.7200\n",
            "Epoch 190/300\n",
            "14/14 [==============================] - 0s 5ms/step - loss: 0.6221 - accuracy: 0.6880 - val_loss: 0.6008 - val_accuracy: 0.7200\n",
            "Epoch 191/300\n",
            "14/14 [==============================] - 0s 6ms/step - loss: 0.6052 - accuracy: 0.7195 - val_loss: 0.6027 - val_accuracy: 0.7200\n",
            "Epoch 192/300\n",
            "14/14 [==============================] - 0s 5ms/step - loss: 0.6225 - accuracy: 0.6751 - val_loss: 0.6039 - val_accuracy: 0.7200\n",
            "Epoch 193/300\n",
            "14/14 [==============================] - 0s 5ms/step - loss: 0.6177 - accuracy: 0.6849 - val_loss: 0.6037 - val_accuracy: 0.7200\n",
            "Epoch 194/300\n",
            "14/14 [==============================] - 0s 5ms/step - loss: 0.5940 - accuracy: 0.7194 - val_loss: 0.6038 - val_accuracy: 0.7200\n",
            "Epoch 195/300\n",
            "14/14 [==============================] - 0s 6ms/step - loss: 0.6204 - accuracy: 0.6817 - val_loss: 0.6037 - val_accuracy: 0.7200\n",
            "Epoch 196/300\n",
            "14/14 [==============================] - 0s 5ms/step - loss: 0.6390 - accuracy: 0.6590 - val_loss: 0.6027 - val_accuracy: 0.7200\n",
            "Epoch 197/300\n",
            "14/14 [==============================] - 0s 6ms/step - loss: 0.6295 - accuracy: 0.6678 - val_loss: 0.6136 - val_accuracy: 0.7200\n",
            "Epoch 198/300\n",
            "14/14 [==============================] - 0s 6ms/step - loss: 0.6327 - accuracy: 0.6811 - val_loss: 0.6033 - val_accuracy: 0.7200\n",
            "Epoch 199/300\n",
            "14/14 [==============================] - 0s 5ms/step - loss: 0.6371 - accuracy: 0.6745 - val_loss: 0.6127 - val_accuracy: 0.7200\n",
            "Epoch 200/300\n",
            "14/14 [==============================] - 0s 5ms/step - loss: 0.6096 - accuracy: 0.6931 - val_loss: 0.6022 - val_accuracy: 0.7200\n",
            "Epoch 201/300\n",
            "14/14 [==============================] - 0s 5ms/step - loss: 0.6108 - accuracy: 0.7022 - val_loss: 0.6018 - val_accuracy: 0.7200\n",
            "Epoch 202/300\n",
            "14/14 [==============================] - 0s 5ms/step - loss: 0.6243 - accuracy: 0.6785 - val_loss: 0.7843 - val_accuracy: 0.7000\n",
            "Epoch 203/300\n",
            "14/14 [==============================] - 0s 5ms/step - loss: 0.6330 - accuracy: 0.6940 - val_loss: 0.6007 - val_accuracy: 0.7200\n",
            "Epoch 204/300\n",
            "14/14 [==============================] - 0s 5ms/step - loss: 0.6299 - accuracy: 0.6723 - val_loss: 0.6058 - val_accuracy: 0.7200\n",
            "Epoch 205/300\n",
            "14/14 [==============================] - 0s 5ms/step - loss: 0.5966 - accuracy: 0.7213 - val_loss: 0.6019 - val_accuracy: 0.7200\n",
            "Epoch 206/300\n",
            "14/14 [==============================] - 0s 5ms/step - loss: 0.6144 - accuracy: 0.6906 - val_loss: 0.6101 - val_accuracy: 0.7200\n",
            "Epoch 207/300\n",
            "14/14 [==============================] - 0s 5ms/step - loss: 0.6137 - accuracy: 0.6900 - val_loss: 0.6045 - val_accuracy: 0.7200\n",
            "Epoch 208/300\n",
            "14/14 [==============================] - 0s 5ms/step - loss: 0.6146 - accuracy: 0.6925 - val_loss: 0.6090 - val_accuracy: 0.7200\n",
            "Epoch 209/300\n",
            "14/14 [==============================] - 0s 6ms/step - loss: 0.5804 - accuracy: 0.7246 - val_loss: 0.6030 - val_accuracy: 0.7200\n",
            "Epoch 210/300\n",
            "14/14 [==============================] - 0s 5ms/step - loss: 0.5932 - accuracy: 0.7185 - val_loss: 0.6024 - val_accuracy: 0.7200\n",
            "Epoch 211/300\n",
            "14/14 [==============================] - 0s 6ms/step - loss: 0.6088 - accuracy: 0.6855 - val_loss: 0.6033 - val_accuracy: 0.7200\n",
            "Epoch 212/300\n",
            "14/14 [==============================] - 0s 5ms/step - loss: 0.6154 - accuracy: 0.6910 - val_loss: 0.6023 - val_accuracy: 0.7200\n",
            "Epoch 213/300\n",
            "14/14 [==============================] - 0s 5ms/step - loss: 0.6256 - accuracy: 0.6731 - val_loss: 0.6019 - val_accuracy: 0.7200\n",
            "Epoch 214/300\n",
            "14/14 [==============================] - 0s 5ms/step - loss: 0.6034 - accuracy: 0.7015 - val_loss: 0.6032 - val_accuracy: 0.7200\n",
            "Epoch 215/300\n",
            "14/14 [==============================] - 0s 5ms/step - loss: 0.6140 - accuracy: 0.6867 - val_loss: 0.6038 - val_accuracy: 0.7200\n",
            "Epoch 216/300\n",
            "14/14 [==============================] - 0s 6ms/step - loss: 0.5871 - accuracy: 0.7218 - val_loss: 0.6080 - val_accuracy: 0.7200\n",
            "Epoch 217/300\n",
            "14/14 [==============================] - 0s 5ms/step - loss: 0.6277 - accuracy: 0.6613 - val_loss: 0.6046 - val_accuracy: 0.7200\n",
            "Epoch 218/300\n",
            "14/14 [==============================] - 0s 5ms/step - loss: 0.6036 - accuracy: 0.7033 - val_loss: 0.6060 - val_accuracy: 0.7200\n",
            "Epoch 219/300\n",
            "14/14 [==============================] - 0s 5ms/step - loss: 0.6177 - accuracy: 0.6968 - val_loss: 0.6007 - val_accuracy: 0.7200\n",
            "Epoch 220/300\n",
            "14/14 [==============================] - 0s 5ms/step - loss: 0.6239 - accuracy: 0.6793 - val_loss: 0.6177 - val_accuracy: 0.7200\n",
            "Epoch 221/300\n",
            "14/14 [==============================] - 0s 6ms/step - loss: 0.6117 - accuracy: 0.7010 - val_loss: 0.6235 - val_accuracy: 0.7200\n",
            "Epoch 222/300\n",
            "14/14 [==============================] - 0s 5ms/step - loss: 0.6319 - accuracy: 0.6671 - val_loss: 0.6032 - val_accuracy: 0.7200\n",
            "Epoch 223/300\n",
            "14/14 [==============================] - 0s 5ms/step - loss: 0.6112 - accuracy: 0.6926 - val_loss: 0.6035 - val_accuracy: 0.7200\n",
            "Epoch 224/300\n",
            "14/14 [==============================] - 0s 6ms/step - loss: 0.6244 - accuracy: 0.6675 - val_loss: 0.6043 - val_accuracy: 0.7200\n",
            "Epoch 225/300\n",
            "14/14 [==============================] - 0s 5ms/step - loss: 0.6037 - accuracy: 0.6974 - val_loss: 0.6002 - val_accuracy: 0.7200\n",
            "Epoch 226/300\n",
            "14/14 [==============================] - 0s 5ms/step - loss: 0.6297 - accuracy: 0.6705 - val_loss: 0.6980 - val_accuracy: 0.7200\n",
            "Epoch 227/300\n",
            "14/14 [==============================] - 0s 6ms/step - loss: 0.6636 - accuracy: 0.6832 - val_loss: 0.6044 - val_accuracy: 0.7200\n",
            "Epoch 228/300\n",
            "14/14 [==============================] - 0s 5ms/step - loss: 0.6035 - accuracy: 0.7087 - val_loss: 0.6039 - val_accuracy: 0.7200\n",
            "Epoch 229/300\n",
            "14/14 [==============================] - 0s 5ms/step - loss: 0.6152 - accuracy: 0.6932 - val_loss: 0.6040 - val_accuracy: 0.7200\n",
            "Epoch 230/300\n",
            "14/14 [==============================] - 0s 6ms/step - loss: 0.6136 - accuracy: 0.6893 - val_loss: 0.6034 - val_accuracy: 0.7200\n",
            "Epoch 231/300\n",
            "14/14 [==============================] - 0s 6ms/step - loss: 0.6185 - accuracy: 0.6815 - val_loss: 0.6161 - val_accuracy: 0.7200\n",
            "Epoch 232/300\n",
            "14/14 [==============================] - 0s 6ms/step - loss: 0.6154 - accuracy: 0.6853 - val_loss: 0.6090 - val_accuracy: 0.7200\n",
            "Epoch 233/300\n",
            "14/14 [==============================] - 0s 5ms/step - loss: 0.6146 - accuracy: 0.6856 - val_loss: 0.6038 - val_accuracy: 0.7200\n",
            "Epoch 234/300\n",
            "14/14 [==============================] - 0s 5ms/step - loss: 0.6091 - accuracy: 0.6966 - val_loss: 0.6047 - val_accuracy: 0.7200\n",
            "Epoch 235/300\n",
            "14/14 [==============================] - 0s 5ms/step - loss: 0.6122 - accuracy: 0.6941 - val_loss: 0.6035 - val_accuracy: 0.7200\n",
            "Epoch 236/300\n",
            "14/14 [==============================] - 0s 5ms/step - loss: 0.6231 - accuracy: 0.6766 - val_loss: 0.6032 - val_accuracy: 0.7200\n",
            "Epoch 237/300\n",
            "14/14 [==============================] - 0s 6ms/step - loss: 0.6299 - accuracy: 0.6702 - val_loss: 0.6033 - val_accuracy: 0.7200\n",
            "Epoch 238/300\n",
            "14/14 [==============================] - 0s 5ms/step - loss: 0.6064 - accuracy: 0.6968 - val_loss: 0.6041 - val_accuracy: 0.7200\n",
            "Epoch 239/300\n",
            "14/14 [==============================] - 0s 5ms/step - loss: 0.5999 - accuracy: 0.7038 - val_loss: 0.6030 - val_accuracy: 0.7200\n",
            "Epoch 240/300\n",
            "14/14 [==============================] - 0s 5ms/step - loss: 0.6310 - accuracy: 0.6568 - val_loss: 0.6062 - val_accuracy: 0.7200\n",
            "Epoch 241/300\n",
            "14/14 [==============================] - 0s 6ms/step - loss: 0.6333 - accuracy: 0.6853 - val_loss: 0.6016 - val_accuracy: 0.7200\n",
            "Epoch 242/300\n",
            "14/14 [==============================] - 0s 5ms/step - loss: 0.5971 - accuracy: 0.6977 - val_loss: 0.6026 - val_accuracy: 0.7200\n",
            "Epoch 243/300\n",
            "14/14 [==============================] - 0s 5ms/step - loss: 0.6162 - accuracy: 0.6792 - val_loss: 0.6029 - val_accuracy: 0.7200\n",
            "Epoch 244/300\n",
            "14/14 [==============================] - 0s 6ms/step - loss: 0.6035 - accuracy: 0.6959 - val_loss: 0.6006 - val_accuracy: 0.7200\n",
            "Epoch 245/300\n",
            "14/14 [==============================] - 0s 5ms/step - loss: 0.6252 - accuracy: 0.6660 - val_loss: 0.5695 - val_accuracy: 0.7600\n",
            "Epoch 246/300\n",
            "14/14 [==============================] - 0s 5ms/step - loss: 0.6320 - accuracy: 0.6808 - val_loss: 0.6038 - val_accuracy: 0.7200\n",
            "Epoch 247/300\n",
            "14/14 [==============================] - 0s 5ms/step - loss: 0.6288 - accuracy: 0.6802 - val_loss: 0.6022 - val_accuracy: 0.7200\n",
            "Epoch 248/300\n",
            "14/14 [==============================] - 0s 6ms/step - loss: 0.6091 - accuracy: 0.6948 - val_loss: 0.6045 - val_accuracy: 0.7200\n",
            "Epoch 249/300\n",
            "14/14 [==============================] - 0s 6ms/step - loss: 0.6142 - accuracy: 0.7019 - val_loss: 0.6025 - val_accuracy: 0.7200\n",
            "Epoch 250/300\n",
            "14/14 [==============================] - 0s 5ms/step - loss: 0.6133 - accuracy: 0.6862 - val_loss: 0.6037 - val_accuracy: 0.7200\n",
            "Epoch 251/300\n",
            "14/14 [==============================] - 0s 5ms/step - loss: 0.6186 - accuracy: 0.6843 - val_loss: 0.6019 - val_accuracy: 0.7200\n",
            "Epoch 252/300\n",
            "14/14 [==============================] - 0s 5ms/step - loss: 0.6116 - accuracy: 0.6818 - val_loss: 0.6027 - val_accuracy: 0.7200\n",
            "Epoch 253/300\n",
            "14/14 [==============================] - 0s 6ms/step - loss: 0.5908 - accuracy: 0.7174 - val_loss: 0.6015 - val_accuracy: 0.7200\n",
            "Epoch 254/300\n",
            "14/14 [==============================] - 0s 5ms/step - loss: 0.6017 - accuracy: 0.6891 - val_loss: 0.6012 - val_accuracy: 0.7200\n",
            "Epoch 255/300\n",
            "14/14 [==============================] - 0s 6ms/step - loss: 0.5945 - accuracy: 0.7129 - val_loss: 0.7081 - val_accuracy: 0.7200\n",
            "Epoch 256/300\n",
            "14/14 [==============================] - 0s 5ms/step - loss: 0.6826 - accuracy: 0.6917 - val_loss: 0.5966 - val_accuracy: 0.7400\n",
            "Epoch 257/300\n",
            "14/14 [==============================] - 0s 5ms/step - loss: 0.6268 - accuracy: 0.6766 - val_loss: 0.6034 - val_accuracy: 0.7200\n",
            "Epoch 258/300\n",
            "14/14 [==============================] - 0s 5ms/step - loss: 0.6164 - accuracy: 0.6929 - val_loss: 0.6058 - val_accuracy: 0.7200\n",
            "Epoch 259/300\n",
            "14/14 [==============================] - 0s 6ms/step - loss: 0.6068 - accuracy: 0.7021 - val_loss: 0.6058 - val_accuracy: 0.7200\n",
            "Epoch 260/300\n",
            "14/14 [==============================] - 0s 5ms/step - loss: 0.5861 - accuracy: 0.7044 - val_loss: 0.6065 - val_accuracy: 0.7200\n",
            "Epoch 261/300\n",
            "14/14 [==============================] - 0s 5ms/step - loss: 0.6066 - accuracy: 0.7036 - val_loss: 0.6033 - val_accuracy: 0.7200\n",
            "Epoch 262/300\n",
            "14/14 [==============================] - 0s 6ms/step - loss: 0.6065 - accuracy: 0.6765 - val_loss: 0.6030 - val_accuracy: 0.7200\n",
            "Epoch 263/300\n",
            "14/14 [==============================] - 0s 5ms/step - loss: 0.6209 - accuracy: 0.6741 - val_loss: 0.6064 - val_accuracy: 0.7200\n",
            "Epoch 264/300\n",
            "14/14 [==============================] - 0s 6ms/step - loss: 0.6070 - accuracy: 0.6832 - val_loss: 0.6049 - val_accuracy: 0.7200\n",
            "Epoch 265/300\n",
            "14/14 [==============================] - 0s 5ms/step - loss: 0.6148 - accuracy: 0.6858 - val_loss: 0.6062 - val_accuracy: 0.7200\n",
            "Epoch 266/300\n",
            "14/14 [==============================] - 0s 5ms/step - loss: 0.6213 - accuracy: 0.6699 - val_loss: 0.6109 - val_accuracy: 0.7200\n",
            "Epoch 267/300\n",
            "14/14 [==============================] - 0s 5ms/step - loss: 0.5958 - accuracy: 0.7090 - val_loss: 0.6102 - val_accuracy: 0.7200\n",
            "Epoch 268/300\n",
            "14/14 [==============================] - 0s 6ms/step - loss: 0.6071 - accuracy: 0.6871 - val_loss: 0.6072 - val_accuracy: 0.7200\n",
            "Epoch 269/300\n",
            "14/14 [==============================] - 0s 5ms/step - loss: 0.6053 - accuracy: 0.7023 - val_loss: 0.6054 - val_accuracy: 0.7200\n",
            "Epoch 270/300\n",
            "14/14 [==============================] - 0s 5ms/step - loss: 0.6024 - accuracy: 0.6978 - val_loss: 0.6048 - val_accuracy: 0.7200\n",
            "Epoch 271/300\n",
            "14/14 [==============================] - 0s 6ms/step - loss: 0.7129 - accuracy: 0.6965 - val_loss: 0.6053 - val_accuracy: 0.7200\n",
            "Epoch 272/300\n",
            "14/14 [==============================] - 0s 6ms/step - loss: 0.6100 - accuracy: 0.6873 - val_loss: 0.6100 - val_accuracy: 0.7200\n",
            "Epoch 273/300\n",
            "14/14 [==============================] - 0s 5ms/step - loss: 0.6237 - accuracy: 0.6972 - val_loss: 0.6079 - val_accuracy: 0.7200\n",
            "Epoch 274/300\n",
            "14/14 [==============================] - 0s 5ms/step - loss: 0.6236 - accuracy: 0.6685 - val_loss: 0.6052 - val_accuracy: 0.7200\n",
            "Epoch 275/300\n",
            "14/14 [==============================] - 0s 5ms/step - loss: 0.6080 - accuracy: 0.7045 - val_loss: 0.6025 - val_accuracy: 0.7200\n",
            "Epoch 276/300\n",
            "14/14 [==============================] - 0s 6ms/step - loss: 0.6417 - accuracy: 0.6545 - val_loss: 0.6056 - val_accuracy: 0.7200\n",
            "Epoch 277/300\n",
            "14/14 [==============================] - 0s 5ms/step - loss: 0.5992 - accuracy: 0.7006 - val_loss: 0.6072 - val_accuracy: 0.7200\n",
            "Epoch 278/300\n",
            "14/14 [==============================] - 0s 5ms/step - loss: 0.6172 - accuracy: 0.6826 - val_loss: 0.6053 - val_accuracy: 0.7200\n",
            "Epoch 279/300\n",
            "14/14 [==============================] - 0s 6ms/step - loss: 0.6063 - accuracy: 0.6897 - val_loss: 0.6020 - val_accuracy: 0.7200\n",
            "Epoch 280/300\n",
            "14/14 [==============================] - 0s 5ms/step - loss: 0.5942 - accuracy: 0.7051 - val_loss: 0.6032 - val_accuracy: 0.7200\n",
            "Epoch 281/300\n",
            "14/14 [==============================] - 0s 5ms/step - loss: 0.6216 - accuracy: 0.6641 - val_loss: 0.6088 - val_accuracy: 0.7200\n",
            "Epoch 282/300\n",
            "14/14 [==============================] - 0s 5ms/step - loss: 0.6158 - accuracy: 0.6879 - val_loss: 0.6061 - val_accuracy: 0.7200\n",
            "Epoch 283/300\n",
            "14/14 [==============================] - 0s 5ms/step - loss: 0.6155 - accuracy: 0.6871 - val_loss: 0.6033 - val_accuracy: 0.7200\n",
            "Epoch 284/300\n",
            "14/14 [==============================] - 0s 6ms/step - loss: 0.5874 - accuracy: 0.7042 - val_loss: 0.6050 - val_accuracy: 0.7200\n",
            "Epoch 285/300\n",
            "14/14 [==============================] - 0s 5ms/step - loss: 0.6200 - accuracy: 0.6759 - val_loss: 0.6051 - val_accuracy: 0.7200\n",
            "Epoch 286/300\n",
            "14/14 [==============================] - 0s 5ms/step - loss: 0.6233 - accuracy: 0.6871 - val_loss: 0.6039 - val_accuracy: 0.7200\n",
            "Epoch 287/300\n",
            "14/14 [==============================] - 0s 5ms/step - loss: 0.6204 - accuracy: 0.6764 - val_loss: 0.6066 - val_accuracy: 0.7200\n",
            "Epoch 288/300\n",
            "14/14 [==============================] - 0s 6ms/step - loss: 0.6213 - accuracy: 0.7009 - val_loss: 0.6056 - val_accuracy: 0.7200\n",
            "Epoch 289/300\n",
            "14/14 [==============================] - 0s 5ms/step - loss: 0.5690 - accuracy: 0.7238 - val_loss: 0.6050 - val_accuracy: 0.7200\n",
            "Epoch 290/300\n",
            "14/14 [==============================] - 0s 6ms/step - loss: 0.6251 - accuracy: 0.6762 - val_loss: 0.6072 - val_accuracy: 0.7200\n",
            "Epoch 291/300\n",
            "14/14 [==============================] - 0s 5ms/step - loss: 0.6079 - accuracy: 0.6877 - val_loss: 0.6049 - val_accuracy: 0.7200\n",
            "Epoch 292/300\n",
            "14/14 [==============================] - 0s 6ms/step - loss: 0.6156 - accuracy: 0.6826 - val_loss: 0.6050 - val_accuracy: 0.7200\n",
            "Epoch 293/300\n",
            "14/14 [==============================] - 0s 6ms/step - loss: 0.6006 - accuracy: 0.7004 - val_loss: 0.6151 - val_accuracy: 0.7200\n",
            "Epoch 294/300\n",
            "14/14 [==============================] - 0s 5ms/step - loss: 0.6243 - accuracy: 0.6904 - val_loss: 0.7675 - val_accuracy: 0.7000\n",
            "Epoch 295/300\n",
            "14/14 [==============================] - 0s 5ms/step - loss: 0.6176 - accuracy: 0.6894 - val_loss: 0.6046 - val_accuracy: 0.7200\n",
            "Epoch 296/300\n",
            "14/14 [==============================] - 0s 6ms/step - loss: 0.5998 - accuracy: 0.6997 - val_loss: 0.6057 - val_accuracy: 0.7200\n",
            "Epoch 297/300\n",
            "14/14 [==============================] - 0s 6ms/step - loss: 0.6050 - accuracy: 0.6892 - val_loss: 0.6052 - val_accuracy: 0.7200\n",
            "Epoch 298/300\n",
            "14/14 [==============================] - 0s 6ms/step - loss: 0.6226 - accuracy: 0.6617 - val_loss: 0.6322 - val_accuracy: 0.7200\n",
            "Epoch 299/300\n",
            "14/14 [==============================] - 0s 5ms/step - loss: 0.6366 - accuracy: 0.6823 - val_loss: 0.6047 - val_accuracy: 0.7200\n",
            "Epoch 300/300\n",
            "14/14 [==============================] - 0s 6ms/step - loss: 0.6151 - accuracy: 0.6807 - val_loss: 0.6063 - val_accuracy: 0.7200\n",
            "4/4 [==============================] - 0s 4ms/step - loss: 0.6256 - accuracy: 0.6911\n"
          ],
          "name": "stdout"
        }
      ]
    },
    {
      "cell_type": "code",
      "metadata": {
        "colab": {
          "base_uri": "https://localhost:8080/",
          "height": 573
        },
        "id": "sISNL2vFuuYU",
        "outputId": "750a6a47-3cd5-4b13-dbb3-e064dd02481a"
      },
      "source": [
        "plot.plot(hist.history['loss'])\n",
        "plot.plot(hist.history['val_loss'])\n",
        "plot.title('Model loss')\n",
        "plot.ylabel('Loss')\n",
        "plot.xlabel('Epoch')\n",
        "plot.legend(['Train', 'Val'], loc='upper right')\n",
        "plot.show()\n",
        "plot.plot(hist.history['accuracy'])\n",
        "plot.plot(hist.history['val_accuracy'])\n",
        "plot.title('Model acc')\n",
        "plot.ylabel('acc')\n",
        "plot.xlabel('Epoch')\n",
        "plot.legend(['Train', 'Val'], loc='upper right')\n",
        "plot.show()\n"
      ],
      "execution_count": null,
      "outputs": [
        {
          "output_type": "display_data",
          "data": {
            "image/png": "[encoded data removed]",
            "text/plain": [
              "<Figure size 432x288 with 1 Axes>"
            ]
          },
          "metadata": {
            "tags": [],
            "needs_background": "light"
          }
        },
        {
          "output_type": "display_data",
          "data": {
            "image/png": "[encoded data removed]",
            "text/plain": [
              "<Figure size 432x288 with 1 Axes>"
            ]
          },
          "metadata": {
            "tags": [],
            "needs_background": "light"
          }
        }
      ]
    },
    {
      "cell_type": "markdown",
      "metadata": {
        "id": "sr8K83vFhtBr"
      },
      "source": [
        "# UNSUPERVISED LEARNING - K means clusterning"
      ]
    },
    {
      "cell_type": "code",
      "metadata": {
        "id": "vIE-AcoGxOCz"
      },
      "source": [
        "from sklearn.cluster import KMeans"
      ],
      "execution_count": null,
      "outputs": []
    },
    {
      "cell_type": "code",
      "metadata": {
        "colab": {
          "base_uri": "https://localhost:8080/",
          "height": 329
        },
        "id": "VN15_BsSii_j",
        "outputId": "b0ba9336-7bd8-46ca-b8e8-9d09adf8f189"
      },
      "source": [
        "wcss = []\n",
        "for i in range(1, 11):\n",
        "    kmeans = KMeans(n_clusters=i, init='k-means++', max_iter=300, n_init=10, random_state=0)\n",
        "    kmeans.fit(X_train)\n",
        "    wcss.append(kmeans.inertia_)\n",
        "plot.plot(range(1, 11), wcss)\n",
        "plot.title('Elbow Method')\n",
        "plot.xlabel('Number of clusters')\n",
        "plot.ylabel('WCSS')\n",
        "plot.show()\n",
        "kmeans = KMeans(n_clusters=4, init='k-means++', max_iter=100, n_init=10, random_state=0)\n",
        "pred_y_kn = kmeans.fit_predict(X_train)\n",
        "result2 = accuracy_score(Y_train, pred_y_kn)\n",
        "print(\"\\nAccuracy:\",result2)\n"
      ],
      "execution_count": null,
      "outputs": [
        {
          "output_type": "display_data",
          "data": {
            "image/png": "[encoded data removed]",
            "text/plain": [
              "<Figure size 432x288 with 1 Axes>"
            ]
          },
          "metadata": {
            "tags": [],
            "needs_background": "light"
          }
        },
        {
          "output_type": "stream",
          "text": [
            "\n",
            "Accuracy: 0.6456211812627292\n"
          ],
          "name": "stdout"
        }
      ]
    },
    {
      "cell_type": "markdown",
      "metadata": {
        "id": "a-YiWcidHWAc"
      },
      "source": [
        "**ON UNSEEN DATA BY LOGISTIC REGRESSION**"
      ]
    },
    {
      "cell_type": "code",
      "metadata": {
        "id": "D_AcXXYzG_JZ"
      },
      "source": [
        "data1 = pd.read_csv('test.csv')\n",
        "data1 = data1.drop(columns=['Loan_ID'])\n",
        "data1_df_encoded = pd.get_dummies(data1,drop_first=True)\n",
        "data1_df_encoded.head()\n",
        "imp1 = SimpleImputer(strategy='mean')\n",
        "imp1_train = imp1.fit(data1_df_encoded)\n",
        "data1_df_encoded = imp1_train.transform(data1_df_encoded)\n",
        "predict= LR.predict(data1_df_encoded)\n",
        "data1['Y/N']= predict\n",
        "data1.to_csv('predicted.csv')"
      ],
      "execution_count": null,
      "outputs": []
    },
    {
      "cell_type": "code",
      "metadata": {
        "id": "u7O6wCs3H8YA"
      },
      "source": [
        ""
      ],
      "execution_count": null,
      "outputs": []
    }
  ]
}